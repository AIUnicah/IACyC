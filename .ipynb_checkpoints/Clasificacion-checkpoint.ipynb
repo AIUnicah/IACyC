{
 "cells": [
  {
   "cell_type": "markdown",
   "metadata": {},
   "source": [
    "# Clasificacion\n",
    "la clasificación es una subcategoría del aprendizaje supervisado en la que el objetivo es predecir las etiquetas de clase categóricas (discreta, valores no ordenados, pertenencia a grupo) de las nuevas instancias, basándonos en observaciones pasadas.\n",
    "    \n",
    "Clasificación Binaria: Es un tipo de clasificación en el que tan solo se pueden asignar dos clases diferentes (0 o 1). El ejemplo típico es la detección de email spam, en la que cada email es: spam → en cuyo caso será etiquetado con un 1 ; o no lo es → etiquetado con un 0.\n",
    "    \n",
    "    \n",
    "Clasificación Multi-clase: Se pueden asignar múltiples categorías a las observaciones. Como el reconocimiento de caracteres de escritura manual de números (en el que las clases van de 0 a 9).\n",
    "\n",
    "Existen diferentes algoritmos de clasificacion que estaremos utilizando a lo largo del proyecto"
   ]
  },
  {
   "cell_type": "code",
   "execution_count": 29,
   "metadata": {},
   "outputs": [],
   "source": [
    "#Importamos las librerias que vamos a necesitar\n",
    "%matplotlib inline\n",
    "import pandas as pd\n",
    "import numpy as np\n",
    "import matplotlib.pyplot as plt\n",
    "import seaborn as sns\n",
    "from sklearn import datasets, linear_model \n"
   ]
  },
  {
   "cell_type": "code",
   "execution_count": 30,
   "metadata": {},
   "outputs": [
    {
     "data": {
      "text/html": [
       "<div>\n",
       "<style scoped>\n",
       "    .dataframe tbody tr th:only-of-type {\n",
       "        vertical-align: middle;\n",
       "    }\n",
       "\n",
       "    .dataframe tbody tr th {\n",
       "        vertical-align: top;\n",
       "    }\n",
       "\n",
       "    .dataframe thead th {\n",
       "        text-align: right;\n",
       "    }\n",
       "</style>\n",
       "<table border=\"1\" class=\"dataframe\">\n",
       "  <thead>\n",
       "    <tr style=\"text-align: right;\">\n",
       "      <th></th>\n",
       "      <th>Pregnancies</th>\n",
       "      <th>Glucose</th>\n",
       "      <th>BloodPressure</th>\n",
       "      <th>SkinThickness</th>\n",
       "      <th>Insulin</th>\n",
       "      <th>BMI</th>\n",
       "      <th>DiabetesPedigreeFunction</th>\n",
       "      <th>Age</th>\n",
       "      <th>Outcome</th>\n",
       "    </tr>\n",
       "  </thead>\n",
       "  <tbody>\n",
       "    <tr>\n",
       "      <th>0</th>\n",
       "      <td>6</td>\n",
       "      <td>148</td>\n",
       "      <td>72</td>\n",
       "      <td>35</td>\n",
       "      <td>0</td>\n",
       "      <td>33.6</td>\n",
       "      <td>0.627</td>\n",
       "      <td>50</td>\n",
       "      <td>1</td>\n",
       "    </tr>\n",
       "    <tr>\n",
       "      <th>1</th>\n",
       "      <td>1</td>\n",
       "      <td>85</td>\n",
       "      <td>66</td>\n",
       "      <td>29</td>\n",
       "      <td>0</td>\n",
       "      <td>26.6</td>\n",
       "      <td>0.351</td>\n",
       "      <td>31</td>\n",
       "      <td>0</td>\n",
       "    </tr>\n",
       "    <tr>\n",
       "      <th>2</th>\n",
       "      <td>8</td>\n",
       "      <td>183</td>\n",
       "      <td>64</td>\n",
       "      <td>0</td>\n",
       "      <td>0</td>\n",
       "      <td>23.3</td>\n",
       "      <td>0.672</td>\n",
       "      <td>32</td>\n",
       "      <td>1</td>\n",
       "    </tr>\n",
       "    <tr>\n",
       "      <th>3</th>\n",
       "      <td>1</td>\n",
       "      <td>89</td>\n",
       "      <td>66</td>\n",
       "      <td>23</td>\n",
       "      <td>94</td>\n",
       "      <td>28.1</td>\n",
       "      <td>0.167</td>\n",
       "      <td>21</td>\n",
       "      <td>0</td>\n",
       "    </tr>\n",
       "    <tr>\n",
       "      <th>4</th>\n",
       "      <td>0</td>\n",
       "      <td>137</td>\n",
       "      <td>40</td>\n",
       "      <td>35</td>\n",
       "      <td>168</td>\n",
       "      <td>43.1</td>\n",
       "      <td>2.288</td>\n",
       "      <td>33</td>\n",
       "      <td>1</td>\n",
       "    </tr>\n",
       "  </tbody>\n",
       "</table>\n",
       "</div>"
      ],
      "text/plain": [
       "   Pregnancies  Glucose  BloodPressure  SkinThickness  Insulin   BMI  \\\n",
       "0            6      148             72             35        0  33.6   \n",
       "1            1       85             66             29        0  26.6   \n",
       "2            8      183             64              0        0  23.3   \n",
       "3            1       89             66             23       94  28.1   \n",
       "4            0      137             40             35      168  43.1   \n",
       "\n",
       "   DiabetesPedigreeFunction  Age  Outcome  \n",
       "0                     0.627   50        1  \n",
       "1                     0.351   31        0  \n",
       "2                     0.672   32        1  \n",
       "3                     0.167   21        0  \n",
       "4                     2.288   33        1  "
      ]
     },
     "execution_count": 30,
     "metadata": {},
     "output_type": "execute_result"
    }
   ],
   "source": [
    "#Traemos nuestro dataset y lo mostramos para ver que lo hemos hecho correctamente\n",
    "diabetes = pd.read_csv('Datasets/Clasificacion/diabetes.csv')\n",
    "diabetes.columns\n",
    "diabetes.head()\n",
    "#Y en donde cada columna representa\n",
    "#Pregnacies:\n",
    "    # Donde son los embarazos que ha tenido la persona hasta donde se hace la medida algo recurrente de esta enfermedad es\n",
    "    # la diabetes durante o post parto aunque esta por lo general con los cuidados adecuados es temporal\n",
    "#Glucose: \n",
    "    # Medida de los niveles de glucosa actuales de la persona esto normalmente se miden en milimoles por litro\n",
    "#BloodPressure\n",
    "    # Meidda de la presion en sangre en milímetros de mercurio cada uno equivalente a 13.332 kPa\n",
    "#SkinThickness\n",
    "    #Unidad de medida para ver el grosor de la piel en micrómetros equivale a: Una milésima de milímetro\n",
    "#Insulin\n",
    "    #Medida de la insulina encontrada en sangre del paciente en miligramos por decilitro\n",
    "#BMI\n",
    "    #Indice de masa corporal de la persona  peso [kg]/ estatura [m2]\n",
    "#DiabetesPedigreeFunction\n",
    "    #Esta es una funcion que utiliza historiales familiares para saber la predisposicion genetica de la persona a la diabetes\n",
    "#Age\n",
    "    #Edad del paciente\n",
    "#Outcom\n",
    "    #Es el resultado de la persona (1) significando que es un resultado positivo de diabetes y (0) negativo"
   ]
  },
  {
   "cell_type": "code",
   "execution_count": 3,
   "metadata": {
    "scrolled": true
   },
   "outputs": [
    {
     "name": "stdout",
     "output_type": "stream",
     "text": [
      "Dimensiones del  dataset : (768, 9)\n"
     ]
    }
   ],
   "source": [
    "#Vemos las dimensiones de nuestro dataset\n",
    "print(\"Dimensiones del  dataset : {}\".format(diabetes.shape))"
   ]
  },
  {
   "cell_type": "code",
   "execution_count": 28,
   "metadata": {},
   "outputs": [
    {
     "data": {
      "text/plain": [
       "Outcome\n",
       "0    500\n",
       "1    268\n",
       "dtype: int64"
      ]
     },
     "execution_count": 28,
     "metadata": {},
     "output_type": "execute_result"
    }
   ],
   "source": [
    "#AHora ocn las medida que vamos a estar trabajando en esta clasificacion es con el resultado o con el outcome\n",
    "#El cual como vimos donde es (0) es negativo y (1) positivo\n",
    "diabetes.groupby('Outcome').size()"
   ]
  },
  {
   "cell_type": "code",
   "execution_count": 5,
   "metadata": {},
   "outputs": [
    {
     "name": "stdout",
     "output_type": "stream",
     "text": [
      "(724, 9)\n"
     ]
    }
   ],
   "source": [
    "#Vamos a hacer una limpieza rapido de los valores del dataset\n",
    "diabetes_mod = diabetes[(diabetes.BloodPressure != 0) & (diabetes.BMI != 0) & (diabetes.Glucose != 0)]\n",
    "\n",
    "print(diabetes_mod.shape)"
   ]
  },
  {
   "cell_type": "code",
   "execution_count": 7,
   "metadata": {},
   "outputs": [],
   "source": [
    "#Ahora selecconamos las columnas mas relevantes para este estudio sobre la diabetes siendo la cantidad de embarazos, \n",
    "# la glucos, el BMI y la predisposicion genetica lso mas impirtantes \n",
    "feature_names = ['Pregnancies', 'Glucose', 'BMI', 'DiabetesPedigreeFunction']\n",
    "X = diabetes_mod[feature_names]\n",
    "y = diabetes_mod.Outcome"
   ]
  },
  {
   "cell_type": "code",
   "execution_count": 8,
   "metadata": {},
   "outputs": [],
   "source": [
    "#Vamos esta utilizando la funcion de regresion linal ya que regresión lineal es el término técnico para dibujar una \n",
    "#línea recta a través de puntos de datos. Esto nos servira como base para la clasificacion que haremos\n",
    "from sklearn.linear_model import LogisticRegression\n",
    "logreg = LogisticRegression(C=1, multi_class='ovr', penalty='l2', solver='liblinear')"
   ]
  },
  {
   "cell_type": "markdown",
   "metadata": {},
   "source": [
    "# Clasificacion test de prueba\n",
    "Este método divide el conjunto de datos en dos partes: un conjunto de entrenamiento y un conjunto de prueba. El conjunto de entrenamiento se utiliza para entrenar al modelo. También podemos medir la precisión del modelo en el conjunto de entrenamiento, pero no debemos evaluar modelos basados solo en esta métrica.\n",
    "\n",
    "El conjunto de prueba solo se usa para probar el modelo y evaluar la precisión después del entrenamiento. Las muestras de datos en el conjunto de prueba nunca se muestran al modelo durante el entrenamiento. La precisión en el conjunto de prueba proporciona una mejor indicación de cómo funcionarán los modelos con los nuevos datos.\n",
    "\n",
    "    Pros: la división de tren / prueba sigue siendo útil debido a su flexibilidad y velocidad\n",
    "\n",
    "    Contras: proporciona una estimación de alta varianza de la precisión fuera de la muestra\n",
    "\n",
    "La biblioteca scikit-learn nos proporciona un método para dividir los datos en trenes y conjuntos de pruebas llamados train_test_split del módulo model_selection. Primero dividiremos los datos en trenes y conjuntos de pruebas. Luego usaremos el conjunto de trenes para entrenar el modelo de regresión logística. Luego predeciremos con el conjunto de prueba.\n"
   ]
  },
  {
   "cell_type": "code",
   "execution_count": 9,
   "metadata": {},
   "outputs": [],
   "source": [
    "from sklearn.model_selection import train_test_split\n",
    "X_train, X_test, y_train, y_test = train_test_split(X, y, stratify = y, random_state = 0)\n",
    "logreg.fit(X_train, y_train)\n",
    "y_pred = logreg.predict(X_test)"
   ]
  },
  {
   "cell_type": "markdown",
   "metadata": {},
   "source": [
    "Finalmente, calculamos el rendimiento del modelo utilizando la métrica de evaluación Precisión de clasificación (que discutiremos en detalle en una próxima sección). Obtenemos un puntaje de precisión de 0.795 o 79.5%."
   ]
  },
  {
   "cell_type": "code",
   "execution_count": 10,
   "metadata": {},
   "outputs": [
    {
     "name": "stdout",
     "output_type": "stream",
     "text": [
      "Accuracy 0.7955801104972375\n"
     ]
    }
   ],
   "source": [
    "from sklearn.metrics import accuracy_score\n",
    "accuracy = accuracy_score(y_test, y_pred)\n",
    "print('Accuracy {}'.format(accuracy))"
   ]
  },
  {
   "cell_type": "markdown",
   "metadata": {},
   "source": [
    "# Validacion cruzada\n",
    "\n",
    "Este método divide el conjunto de datos en K particiones iguales (\"pliegues\"), luego utiliza 1 pliegue como conjunto de prueba y la unión de los otros pliegues como conjunto de entrenamiento.\n",
    "\n",
    "El proceso seguirá los pasos anteriores K veces, utilizando diferentes pliegues como la prueba establecida cada vez. La precisión promedio de las pruebas del proceso es la precisión de las pruebas.\n",
    "\n",
    "     Pros: Estimación más precisa de la precisión fuera de la muestra. Uso más \"eficiente\" de los datos (cada observación se usa tanto para entrenamiento como para pruebas)\n",
    "\n",
    "     Contras: Mucho más lento que la división Tren / Prueba.\n",
    "\n",
    "Para la validación cruzada, Scikit Learn proporciona el método cross_val_score, que también es del módulo model_selection. Pasamos el modelo de regresión logística con las características X y las respuestas y como parámetros. Y el método realizará una validación cruzada 10 veces, utilizando la precisión de la clasificación como método de puntuación. Obtenemos una precisión media del 78%."
   ]
  },
  {
   "cell_type": "code",
   "execution_count": 11,
   "metadata": {},
   "outputs": [
    {
     "name": "stdout",
     "output_type": "stream",
     "text": [
      "Accuracy 0.7790525114155251\n"
     ]
    }
   ],
   "source": [
    "from sklearn.model_selection import cross_val_score\n",
    "accuracy = cross_val_score(logreg, X, y, cv = 10, scoring='accuracy').mean()\n",
    "print('Accuracy {}'.format(accuracy))"
   ]
  },
  {
   "cell_type": "markdown",
   "metadata": {},
   "source": [
    "# Matriz de confusion\n",
    "Una matriz de confusión se puede definir libremente como una tabla que describe el rendimiento de un modelo de clasificación en un conjunto de datos de prueba para los que se conocen los valores verdaderos. Una matriz de confusión es altamente interpretativa y puede usarse para estimar una cantidad de otras métricas.\n",
    "\n",
    "Scikit-learn proporciona un método para realizar la matriz de confusión en el conjunto de datos de prueba. El método confusion_matrix requiere los valores de la clase de respuesta real y los valores predichos para determinar la matriz."
   ]
  },
  {
   "cell_type": "code",
   "execution_count": 12,
   "metadata": {},
   "outputs": [
    {
     "name": "stdout",
     "output_type": "stream",
     "text": [
      "[[108  11]\n",
      " [ 26  36]]\n"
     ]
    }
   ],
   "source": [
    "from sklearn.metrics import confusion_matrix\n",
    "\n",
    "confusion = confusion_matrix(y_test, y_pred)\n",
    "print(confusion)"
   ]
  },
  {
   "cell_type": "markdown",
   "metadata": {},
   "source": [
    "Dado que nuestro problema tiene solo dos clases de respuesta, se puede clasificar como un problema de clasificación binaria. Por lo tanto, la matriz de confusión es una cuadrícula de 2 X 2. La matriz de confusión se interpreta de manera diferente en diferentes implementaciones."
   ]
  },
  {
   "cell_type": "code",
   "execution_count": 13,
   "metadata": {},
   "outputs": [
    {
     "data": {
      "text/plain": [
       "<matplotlib.axes._subplots.AxesSubplot at 0x207b77a3c10>"
      ]
     },
     "execution_count": 13,
     "metadata": {},
     "output_type": "execute_result"
    },
    {
     "data": {
      "image/png": "[encoded data removed]",
      "text/plain": [
       "<Figure size 432x288 with 2 Axes>"
      ]
     },
     "metadata": {
      "needs_background": "light"
     },
     "output_type": "display_data"
    }
   ],
   "source": [
    "#La terminología básica relacionada con la matriz de confusión es la siguiente. Interpretaremos con respecto a nuestro problema.\n",
    "\n",
    "     #Positivos verdaderos (TP): predicción correcta como diabético\n",
    "     #Verdaderos negativos (TN): predicción correcta como no diabético\n",
    "     #Positivos falsos (FP): predicción incorrecta como diabético (\"error tipo I\")\n",
    "     #Falsos negativos (FN): predicción incorrecta como no diabético (\"error tipo II\")\n",
    "sns.heatmap(confusion, annot=True,fmt=\"d\")"
   ]
  },
  {
   "cell_type": "markdown",
   "metadata": {},
   "source": [
    "# Métricas calculadas a partir de la matriz de confusión\n",
    "Primero analizaremos la matriz de confusión obtenida en Verdaderos positivos (TP), Verdaderos negativos (TN), falsos positivos (FP) y falsos negativos (FN)."
   ]
  },
  {
   "cell_type": "code",
   "execution_count": 14,
   "metadata": {},
   "outputs": [],
   "source": [
    "TP = confusion[1, 1]\n",
    "TN = confusion[0, 0]\n",
    "FP = confusion[0, 1]\n",
    "FN = confusion[1, 0]\n",
    "#A partir de esto calcularemos las siguientes metricas"
   ]
  },
  {
   "attachments": {
    "0%2039uBaqTNzqUgnH2Q.png": {
     "image/png": "[encoded data removed]"
    },
    "0%20bsvhEAsApqXHOjL0.png": {
     "image/png": "[encoded data removed]"
    }
   },
   "cell_type": "markdown",
   "metadata": {},
   "source": [
    "# Precision de clasificacion\n",
    "La precisión de la clasificación es la relación entre las predicciones correctas y el no. de predicciones O más simplemente, con qué frecuencia es correcto el clasificador.\n",
    "![0%2039uBaqTNzqUgnH2Q.png](attachment:0%2039uBaqTNzqUgnH2Q.png)\n",
    "\n",
    "\n",
    "Podemos calcular la precisión utilizando la matriz de confusión. La siguiente es la ecuación para calcular la precisión utilizando la matriz de confusión:\n",
    "![0%20bsvhEAsApqXHOjL0.png](attachment:0%20bsvhEAsApqXHOjL0.png)"
   ]
  },
  {
   "cell_type": "code",
   "execution_count": 15,
   "metadata": {},
   "outputs": [
    {
     "name": "stdout",
     "output_type": "stream",
     "text": [
      "0.7955801104972375\n",
      "0.7955801104972375\n"
     ]
    }
   ],
   "source": [
    "print((TP + TN) / float(TP + TN + FP + FN))\n",
    "print(accuracy_score(y_test, y_pred))\n",
    "#La precisión también se puede calcular utilizando el método precision_score.\n",
    "#Podemos observar que la precisión es 0.795."
   ]
  },
  {
   "attachments": {
    "0%20Y5yoQ_J6_ExsFFgw.png": {
     "image/png": "[encoded data removed]"
    },
    "0%20hzQL6uQkVYbCb1bL.png": {
     "image/png": "[encoded data removed]"
    }
   },
   "cell_type": "markdown",
   "metadata": {},
   "source": [
    "# Sensibilidad / recuperación\n",
    "\n",
    "Sensibilidad o su recuperación es la relación de las predicciones positivas correctas a la no total. de predicciones positivas. O más simplemente, cuán sensible es el clasificador para detectar instancias positivas. Esto también se llama la tasa positiva verdadera.\n",
    "![0%20hzQL6uQkVYbCb1bL.png](attachment:0%20hzQL6uQkVYbCb1bL.png)\n",
    "\n",
    "El uso de la recuperación de la matriz de confusión se puede calcular de la siguiente manera:\n",
    "![0%20Y5yoQ_J6_ExsFFgw.png](attachment:0%20Y5yoQ_J6_ExsFFgw.png)"
   ]
  },
  {
   "cell_type": "code",
   "execution_count": 16,
   "metadata": {},
   "outputs": [
    {
     "name": "stdout",
     "output_type": "stream",
     "text": [
      "0.5806451612903226\n",
      "0.5806451612903226\n"
     ]
    }
   ],
   "source": [
    "from sklearn.metrics import recall_score\n",
    "print(TP / float(TP + FN))\n",
    "print(recall_score(y_test, y_pred))\n",
    "#Además, Scikit-learn proporciona un método llamado recall_score para encontrar el resultado\n",
    "#de recuperación. Podemos observar que el clasificador tiene un puntaje de recuerdo de 0.58."
   ]
  },
  {
   "attachments": {
    "0%203ruJY4Q0UdGdOYVh.png": {
     "image/png": "[encoded data removed]"
    },
    "0%20LqVc7xJ1DPlVbsRz.png": {
     "image/png": "[encoded data removed]"
    }
   },
   "cell_type": "markdown",
   "metadata": {},
   "source": [
    "# Precisión\n",
    "La precisión es la relación entre las predicciones correctas y el no. de predicciones predichas correctas. Esto mide cuán preciso es el clasificador al predecir instancias positivas.\n",
    "![0%20LqVc7xJ1DPlVbsRz.png](attachment:0%20LqVc7xJ1DPlVbsRz.png)\n",
    "\n",
    "Esto se puede calcular a partir de la matriz de confusión de la siguiente manera:\n",
    "![0%203ruJY4Q0UdGdOYVh.png](attachment:0%203ruJY4Q0UdGdOYVh.png)\n"
   ]
  },
  {
   "cell_type": "code",
   "execution_count": 19,
   "metadata": {},
   "outputs": [
    {
     "name": "stdout",
     "output_type": "stream",
     "text": [
      "0.7659574468085106\n",
      "0.7659574468085106\n"
     ]
    }
   ],
   "source": [
    "#Scikit -learn proporciona el método precision_score\n",
    "#para calcular la precisión. Podemos observar que la precisión es 0.76.\n",
    "from sklearn.metrics import precision_score\n",
    "print(TP / float(TP + FP))\n",
    "print(precision_score(y_test, y_pred))"
   ]
  }
 ],
 "metadata": {
  "kernelspec": {
   "display_name": "Python 3",
   "language": "python",
   "name": "python3"
  },
  "language_info": {
   "codemirror_mode": {
    "name": "ipython",
    "version": 3
   },
   "file_extension": ".py",
   "mimetype": "text/x-python",
   "name": "python",
   "nbconvert_exporter": "python",
   "pygments_lexer": "ipython3",
   "version": "3.8.1"
  }
 },
 "nbformat": 4,
 "nbformat_minor": 4
}
